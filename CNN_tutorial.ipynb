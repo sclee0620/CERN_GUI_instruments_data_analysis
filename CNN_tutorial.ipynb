{
  "nbformat": 4,
  "nbformat_minor": 0,
  "metadata": {
    "colab": {
      "name": "CNN tutorial.ipynb",
      "provenance": [],
      "collapsed_sections": [],
      "include_colab_link": true
    },
    "language_info": {
      "codemirror_mode": {
        "name": "ipython",
        "version": 3
      },
      "file_extension": ".py",
      "mimetype": "text/x-python",
      "name": "python",
      "nbconvert_exporter": "python",
      "pygments_lexer": "ipython3",
      "version": "3.7.3"
    },
    "kernelspec": {
      "name": "python3",
      "display_name": "Python 3"
    },
    "accelerator": "GPU"
  },
  "cells": [
    {
      "cell_type": "markdown",
      "metadata": {
        "id": "view-in-github",
        "colab_type": "text"
      },
      "source": [
        "<a href=\"https://colab.research.google.com/github/sclee0620/CERN_GUI_instruments_data_analysis/blob/master/CNN_tutorial.ipynb\" target=\"_parent\"><img src=\"https://colab.research.google.com/assets/colab-badge.svg\" alt=\"Open In Colab\"/></a>"
      ]
    },
    {
      "cell_type": "markdown",
      "metadata": {
        "id": "6Y8mytY6WVcF"
      },
      "source": [
        "#Tutorial on CNN\n",
        "We try to build a DNN that recognize if an image contains a rectangle or a circle"
      ]
    },
    {
      "cell_type": "markdown",
      "metadata": {
        "id": "uxgS64DmqCrH"
      },
      "source": [
        "## Import useful stuff"
      ]
    },
    {
      "cell_type": "code",
      "metadata": {
        "id": "jO_-Tguu60O9"
      },
      "source": [
        "from keras.layers import Input,Dense,Dropout,Conv2D,MaxPooling2D,Flatten\n",
        "from keras.models import Model\n",
        "import numpy as np\n",
        "from math import *\n",
        "from matplotlib import pyplot as plt "
      ],
      "execution_count": null,
      "outputs": []
    },
    {
      "cell_type": "markdown",
      "metadata": {
        "id": "JcejQQHu8WQa"
      },
      "source": [
        "## Lets generate some data\n",
        "\n",
        "We now generate ourself some images with a circle or a rectangle, of random color, in a random position\n",
        "\n",
        "### Exercise\n",
        "1. Try adding more classes such e.g. Lines or Ellipses\n",
        "\n",
        "2. Try adding some random noise in the image background"
      ]
    },
    {
      "cell_type": "code",
      "metadata": {
        "id": "LGItu2U4lVh7"
      },
      "source": [
        "import cv2\n",
        "\n",
        "def randomColor():\n",
        "  return (int(np.random.rand()*128+128),int(np.random.rand()*128+128),int(np.random.rand()*128+128))\n",
        "\n",
        "def drawCircle(c,x,y,r):\n",
        "  img = np.zeros((64,64,3), np.uint8)\n",
        "  cv2.circle(img,(x,y),r,c, -1)\n",
        "  return img\n",
        "\n",
        "def genCircle():\n",
        "  return drawCircle(randomColor(),int(np.random.rand()*50)+10,int(np.random.rand()*50)+10,\n",
        "                    int(np.random.rand()*6)+3)\n",
        "\n",
        "def drawRectangle(c,x,y,w,h):\n",
        "  img = np.zeros((64,64,3), np.uint8)\n",
        "  cv2.rectangle(img,(x,y),((x+w),(y+h)), c, -1)\n",
        "  return img\n",
        "\n",
        "def genRectangle():\n",
        "  return drawRectangle(randomColor(),int(np.random.rand()*40)+10,int(np.random.rand()*40)+10,\n",
        "                       int(np.random.rand()*12)+5,int(np.random.rand()*12)+5)\n",
        "\n",
        "\n",
        "nsamples=50000\n",
        "rects=np.stack([genRectangle() for x in range(nsamples)])\n",
        "circs=np.stack([genCircle() for x in range(nsamples)])\n"
      ],
      "execution_count": null,
      "outputs": []
    },
    {
      "cell_type": "markdown",
      "metadata": {
        "id": "XArMXTtMW97o"
      },
      "source": [
        "Let's show one of the generated image"
      ]
    },
    {
      "cell_type": "code",
      "metadata": {
        "id": "YiUPPdZ6pNsi",
        "outputId": "6c3f0376-7a74-4711-9b0b-1f43acb98c8b",
        "colab": {
          "base_uri": "https://localhost:8080/",
          "height": 302
        }
      },
      "source": [
        "print(rects.shape)\n",
        "plt.imshow(rects[8])\n"
      ],
      "execution_count": null,
      "outputs": [
        {
          "output_type": "stream",
          "text": [
            "(50000, 64, 64, 3)\n"
          ],
          "name": "stdout"
        },
        {
          "output_type": "execute_result",
          "data": {
            "text/plain": [
              "<matplotlib.image.AxesImage at 0x7fa5bf9659e8>"
            ]
          },
          "metadata": {
            "tags": []
          },
          "execution_count": 22
        },
        {
          "output_type": "display_data",
          "data": {
            "image/png": "[encoded data removed]",
            "text/plain": [
              "<Figure size 432x288 with 1 Axes>"
            ]
          },
          "metadata": {
            "tags": []
          }
        }
      ]
    },
    {
      "cell_type": "code",
      "metadata": {
        "id": "LeVJ5UFW68Nf",
        "outputId": "ee3614a6-a4b1-46b4-f5f9-d50a211329d2",
        "colab": {
          "base_uri": "https://localhost:8080/",
          "height": 285
        }
      },
      "source": [
        "plt.imshow(circs[0])"
      ],
      "execution_count": null,
      "outputs": [
        {
          "output_type": "execute_result",
          "data": {
            "text/plain": [
              "<matplotlib.image.AxesImage at 0x7fa5bf106518>"
            ]
          },
          "metadata": {
            "tags": []
          },
          "execution_count": 23
        },
        {
          "output_type": "display_data",
          "data": {
            "image/png": "[encoded data removed]",
            "text/plain": [
              "<Figure size 432x288 with 1 Axes>"
            ]
          },
          "metadata": {
            "tags": []
          }
        }
      ]
    },
    {
      "cell_type": "markdown",
      "metadata": {
        "id": "qeU8chiYxtSu"
      },
      "source": [
        "We concatenate zeroes and ones as labels and the shuffle with the same permutation both the data and the labels.\n",
        "## Exercise\n",
        "3. If we have more categories (let say N) we should use a categorical label that is a vector of length N with 1 on the category(/ies) the image belong to and 0 in the others. Try to build a categorical label for two categories (e.g. using numpy \"tile\" function to repeat the same raw multiple times )\n",
        "4. Expand the categorical label to  Ellispes or  Lines  and possibly also non exclusive categories such has 2D vs 1D objects"
      ]
    },
    {
      "cell_type": "code",
      "metadata": {
        "id": "MN1px9PfBp9y"
      },
      "source": [
        "labels=np.concatenate((np.zeros(rects.shape[0]),np.ones(circs.shape[0])))\n",
        "data=np.concatenate((rects,circs))\n",
        "permutation = np.random.permutation(data.shape[0])\n",
        "data=data[permutation]\n",
        "labels=labels[permutation]"
      ],
      "execution_count": null,
      "outputs": []
    },
    {
      "cell_type": "markdown",
      "metadata": {
        "id": "sw5_R5APR4N1"
      },
      "source": [
        ""
      ]
    },
    {
      "cell_type": "markdown",
      "metadata": {
        "id": "3NibVPZhC3hL"
      },
      "source": [
        "# Let's build a CNN \n",
        "\n",
        "Now we build our first CNN. We have some Conv layers interleaved with MaxPooling\n",
        "\n",
        "Finally we flatten the output of the convolutional stack and appply a Dense FF\n",
        "\n",
        "### MaxPooling\n",
        "![alt text](https://computersciencewiki.org/images/8/8a/MaxpoolSample2.png)\n",
        "\n",
        "### Exercise\n",
        "5. Try adding/removing convolutional layers, change the kernel size, try to add dropout\n",
        "6. Try changing the model to categorical labels, change loss function from binary_crossentropy to categorical_crossentropy, and use softmax activation instead of sigmoid\n"
      ]
    },
    {
      "cell_type": "code",
      "metadata": {
        "id": "pJLV4GOu9vGu",
        "outputId": "e86b5167-3c72-4337-f6fb-9050e0b2acb1",
        "colab": {
          "base_uri": "https://localhost:8080/",
          "height": 527
        }
      },
      "source": [
        "inputs=Input(shape=(64,64,3,))\n",
        "conv=True\n",
        "if conv:\n",
        "  hidden=  Conv2D(4,(5,5), activation='relu')(inputs)\n",
        "  hidden=  Conv2D(3,(3,3), activation='relu')(hidden)\n",
        "  hidden= MaxPooling2D((8,8))(hidden)\n",
        "  hidden=  Conv2D(3,(3,3), activation='relu')(hidden)\n",
        "  hidden= MaxPooling2D((4,4))(hidden)\n",
        "  hidden= Flatten()(hidden)\n",
        "  hidden=  Dense(10, activation='relu')(hidden)\n",
        "  hidden=  Dense(10, activation='relu')(hidden)\n",
        "  hidden=  Dense(10, activation='relu')(hidden)\n",
        "else :\n",
        "  hidden=Dense(50, activation='relu')(Flatten()(inputs))\n",
        "outputs = Dense(1, activation='sigmoid')(hidden)\n",
        "model = Model(inputs=inputs, outputs=outputs)\n",
        "model.compile(loss='binary_crossentropy', optimizer='adam',metrics=['accuracy'])\n",
        "\n",
        "model.summary()"
      ],
      "execution_count": null,
      "outputs": [
        {
          "output_type": "stream",
          "text": [
            "Model: \"model_2\"\n",
            "_________________________________________________________________\n",
            "Layer (type)                 Output Shape              Param #   \n",
            "=================================================================\n",
            "input_2 (InputLayer)         (None, 64, 64, 3)         0         \n",
            "_________________________________________________________________\n",
            "conv2d_4 (Conv2D)            (None, 60, 60, 4)         304       \n",
            "_________________________________________________________________\n",
            "conv2d_5 (Conv2D)            (None, 58, 58, 3)         111       \n",
            "_________________________________________________________________\n",
            "max_pooling2d_3 (MaxPooling2 (None, 7, 7, 3)           0         \n",
            "_________________________________________________________________\n",
            "conv2d_6 (Conv2D)            (None, 5, 5, 3)           84        \n",
            "_________________________________________________________________\n",
            "max_pooling2d_4 (MaxPooling2 (None, 1, 1, 3)           0         \n",
            "_________________________________________________________________\n",
            "flatten_2 (Flatten)          (None, 3)                 0         \n",
            "_________________________________________________________________\n",
            "dense_5 (Dense)              (None, 10)                40        \n",
            "_________________________________________________________________\n",
            "dense_6 (Dense)              (None, 10)                110       \n",
            "_________________________________________________________________\n",
            "dense_7 (Dense)              (None, 10)                110       \n",
            "_________________________________________________________________\n",
            "dense_8 (Dense)              (None, 1)                 11        \n",
            "=================================================================\n",
            "Total params: 770\n",
            "Trainable params: 770\n",
            "Non-trainable params: 0\n",
            "_________________________________________________________________\n"
          ],
          "name": "stdout"
        }
      ]
    },
    {
      "cell_type": "markdown",
      "metadata": {
        "id": "S6JmJFU-9vtN"
      },
      "source": [
        "And now let's fit it to our data.\n",
        "The sample is automatically split in two so that 50% of it is used for validation and the other half for training\n"
      ]
    },
    {
      "cell_type": "code",
      "metadata": {
        "id": "KRMhsQ2nC6oa",
        "outputId": "607a0b72-262f-451a-ba98-34ebc5f5c248",
        "colab": {
          "base_uri": "https://localhost:8080/",
          "height": 714
        }
      },
      "source": [
        "history=model.fit(data,labels,validation_split=0.5,epochs=5)"
      ],
      "execution_count": null,
      "outputs": [
        {
          "output_type": "stream",
          "text": [
            "Train on 50000 samples, validate on 50000 samples\n",
            "Epoch 1/20\n",
            "50000/50000 [==============================] - 28s 559us/step - loss: 0.1118 - acc: 0.9372 - val_loss: 4.9207e-04 - val_acc: 1.0000\n",
            "Epoch 2/20\n",
            "50000/50000 [==============================] - 27s 537us/step - loss: 0.0016 - acc: 0.9997 - val_loss: 1.0355e-04 - val_acc: 1.0000\n",
            "Epoch 3/20\n",
            "50000/50000 [==============================] - 24s 485us/step - loss: 5.7824e-05 - acc: 1.0000 - val_loss: 2.1587e-05 - val_acc: 1.0000\n",
            "Epoch 4/20\n",
            "50000/50000 [==============================] - 24s 476us/step - loss: 1.2080e-05 - acc: 1.0000 - val_loss: 6.4775e-06 - val_acc: 1.0000\n",
            "Epoch 5/20\n",
            "50000/50000 [==============================] - 24s 471us/step - loss: 4.0465e-06 - acc: 1.0000 - val_loss: 2.4544e-06 - val_acc: 1.0000\n",
            "Epoch 6/20\n",
            "50000/50000 [==============================] - 24s 474us/step - loss: 1.9717e-06 - acc: 1.0000 - val_loss: 1.2519e-06 - val_acc: 1.0000\n",
            "Epoch 7/20\n",
            "50000/50000 [==============================] - 24s 473us/step - loss: 6.6951e-07 - acc: 1.0000 - val_loss: 6.1257e-07 - val_acc: 1.0000\n",
            "Epoch 8/20\n",
            "50000/50000 [==============================] - 24s 477us/step - loss: 3.4484e-07 - acc: 1.0000 - val_loss: 7.4252e-06 - val_acc: 1.0000\n",
            "Epoch 9/20\n",
            "50000/50000 [==============================] - 24s 475us/step - loss: 2.4789e-07 - acc: 1.0000 - val_loss: 4.7201e-07 - val_acc: 1.0000\n",
            "Epoch 10/20\n",
            "50000/50000 [==============================] - 24s 478us/step - loss: 1.4715e-07 - acc: 1.0000 - val_loss: 2.6470e-07 - val_acc: 1.0000\n",
            "Epoch 11/20\n",
            "50000/50000 [==============================] - 25s 503us/step - loss: 1.2249e-07 - acc: 1.0000 - val_loss: 2.1292e-07 - val_acc: 1.0000\n",
            "Epoch 12/20\n",
            "50000/50000 [==============================] - 24s 488us/step - loss: 1.1263e-07 - acc: 1.0000 - val_loss: 1.5713e-07 - val_acc: 1.0000\n",
            "Epoch 13/20\n",
            "50000/50000 [==============================] - 24s 488us/step - loss: 1.1074e-07 - acc: 1.0000 - val_loss: 1.3875e-07 - val_acc: 1.0000\n",
            "Epoch 14/20\n",
            "50000/50000 [==============================] - 24s 488us/step - loss: 1.0984e-07 - acc: 1.0000 - val_loss: 1.2310e-07 - val_acc: 1.0000\n",
            "Epoch 15/20\n",
            "50000/50000 [==============================] - 25s 491us/step - loss: 1.0967e-07 - acc: 1.0000 - val_loss: 1.1758e-07 - val_acc: 1.0000\n",
            "Epoch 16/20\n",
            "50000/50000 [==============================] - 24s 490us/step - loss: 1.0963e-07 - acc: 1.0000 - val_loss: 1.1454e-07 - val_acc: 1.0000\n",
            "Epoch 17/20\n",
            "50000/50000 [==============================] - 25s 491us/step - loss: 1.0959e-07 - acc: 1.0000 - val_loss: 1.1048e-07 - val_acc: 1.0000\n",
            "Epoch 18/20\n",
            "50000/50000 [==============================] - 25s 493us/step - loss: 1.0959e-07 - acc: 1.0000 - val_loss: 1.1066e-07 - val_acc: 1.0000\n",
            "Epoch 19/20\n",
            "50000/50000 [==============================] - 25s 493us/step - loss: 1.0957e-07 - acc: 1.0000 - val_loss: 1.1043e-07 - val_acc: 1.0000\n",
            "Epoch 20/20\n",
            "50000/50000 [==============================] - 26s 528us/step - loss: 1.0958e-07 - acc: 1.0000 - val_loss: 1.1026e-07 - val_acc: 1.0000\n"
          ],
          "name": "stdout"
        }
      ]
    },
    {
      "cell_type": "markdown",
      "metadata": {
        "id": "DKGPKoUU0Ou0"
      },
      "source": [
        "*history* contains information about the training.  We can now now show the loss vs epoch for both validation and training samples.\n",
        "\n",
        "\n"
      ]
    },
    {
      "cell_type": "code",
      "metadata": {
        "id": "lu2OdNE5OeXb",
        "outputId": "8df1c0f8-f7fa-41db-c8c5-4a09981190d2",
        "colab": {
          "base_uri": "https://localhost:8080/",
          "height": 530
        }
      },
      "source": [
        "print(history.history.keys())\n",
        "plt.plot(history.history[\"val_loss\"])\n",
        "plt.plot(history.history[\"loss\"])\n",
        "plt.show()\n",
        "plt.plot(history.history[\"val_acc\"])\n",
        "plt.plot(history.history[\"acc\"])\n",
        "plt.show()\n"
      ],
      "execution_count": null,
      "outputs": [
        {
          "output_type": "stream",
          "text": [
            "dict_keys(['val_loss', 'val_acc', 'loss', 'acc'])\n"
          ],
          "name": "stdout"
        },
        {
          "output_type": "display_data",
          "data": {
            "image/png": "[encoded data removed]",
            "text/plain": [
              "<Figure size 432x288 with 1 Axes>"
            ]
          },
          "metadata": {
            "tags": []
          }
        },
        {
          "output_type": "display_data",
          "data": {
            "image/png": "[encoded data removed]",
            "text/plain": [
              "<Figure size 432x288 with 1 Axes>"
            ]
          },
          "metadata": {
            "tags": []
          }
        }
      ]
    },
    {
      "cell_type": "code",
      "metadata": {
        "id": "qKxqLjPvEqX3",
        "outputId": "2b5f5c1f-3975-4e51-a2f1-8d8baef5cd03",
        "colab": {
          "base_uri": "https://localhost:8080/",
          "height": 51
        }
      },
      "source": [
        "print(model.predict(np.expand_dims(genRectangle(),axis=0) ))\n",
        "print(model.predict(np.expand_dims(genCircle(),axis=0) ))\n"
      ],
      "execution_count": null,
      "outputs": [
        {
          "output_type": "stream",
          "text": [
            "[[0.]]\n",
            "[[1.]]\n"
          ],
          "name": "stdout"
        }
      ]
    },
    {
      "cell_type": "markdown",
      "metadata": {
        "id": "AWGckuGjZRjm"
      },
      "source": [
        "Let's try to mix an image with circles and rectangles and see how the network would evaluate it "
      ]
    },
    {
      "cell_type": "code",
      "metadata": {
        "id": "ej1RCfrcZPLp",
        "outputId": "d6c25057-e48e-4190-cd52-4fbabc0f2afb",
        "colab": {
          "base_uri": "https://localhost:8080/",
          "height": 302
        }
      },
      "source": [
        "im=genCircle()\n",
        "print(\"Looks like a\", (\"circle\" if model.predict(np.expand_dims(im,axis=0) )> 0.5 else \"rectangle\"))\n",
        "plt.imshow(im)"
      ],
      "execution_count": null,
      "outputs": [
        {
          "output_type": "stream",
          "text": [
            "Looks like a circle\n"
          ],
          "name": "stdout"
        },
        {
          "output_type": "execute_result",
          "data": {
            "text/plain": [
              "<matplotlib.image.AxesImage at 0x7fa5bf5df080>"
            ]
          },
          "metadata": {
            "tags": []
          },
          "execution_count": 29
        },
        {
          "output_type": "display_data",
          "data": {
            "image/png": "[encoded data removed]",
            "text/plain": [
              "<Figure size 432x288 with 1 Axes>"
            ]
          },
          "metadata": {
            "tags": []
          }
        }
      ]
    },
    {
      "cell_type": "markdown",
      "metadata": {
        "id": "Se-3QB9YZuXX"
      },
      "source": [
        "The following code can be used to visualize what features the first conv layer is looking at"
      ]
    },
    {
      "cell_type": "code",
      "metadata": {
        "id": "vSgEZ2S4qyKi",
        "outputId": "22bef521-ab05-4816-aeab-39a4be305a43",
        "colab": {
          "base_uri": "https://localhost:8080/",
          "height": 252
        }
      },
      "source": [
        "# retrieve weights from the second hidden layer\n",
        "filters, biases = model.layers[1].get_weights()\n",
        "# normalize filter values to 0-1 so we can visualize them\n",
        "f_min, f_max = filters.min(), filters.max()\n",
        "filters = (filters - f_min) / (f_max - f_min)\n",
        "# plot first few filters\n",
        "n_filters, ix =4, 1\n",
        "for i in range(n_filters):\n",
        "\t# get the filter\n",
        "\tf = filters[:, :, :, i]\n",
        "\t# plot each channel separately\n",
        "\tfor j in range(3):\n",
        "\t\t# specify subplot and turn of axis\n",
        "\t\tax = plt.subplot(n_filters, 4, ix)\n",
        "\t\tax.set_xticks([])\n",
        "\t\tax.set_yticks([])\n",
        "\t\t# plot filter channel in grayscale\n",
        "\t\tplt.imshow(f[:, :, j], cmap=['Reds','Greens','Blues'][j])\n",
        "\t\tix += 1\n",
        "\tax = plt.subplot(n_filters, 4, ix)\n",
        "\tax.set_xticks([])\n",
        "\tax.set_yticks([])\n",
        "\tplt.imshow(f)\n",
        "\tix += 1\n",
        "\n",
        "\n",
        "# show the figure\n",
        "plt.show()"
      ],
      "execution_count": null,
      "outputs": [
        {
          "output_type": "display_data",
          "data": {
            "image/png": "[encoded data removed]",
            "text/plain": [
              "<Figure size 432x288 with 16 Axes>"
            ]
          },
          "metadata": {
            "tags": []
          }
        }
      ]
    }
  ]
}